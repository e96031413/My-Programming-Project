{
 "cells": [
  {
   "cell_type": "markdown",
   "metadata": {},
   "source": [
    "# 直接使用JSON版本"
   ]
  },
  {
   "cell_type": "code",
   "execution_count": 20,
   "metadata": {},
   "outputs": [
    {
     "name": "stdout",
     "output_type": "stream",
     "text": [
      " change type of dataframe to highcharts \n"
     ]
    }
   ],
   "source": [
    "from highcharts import Highstock\n",
    "#from highcharts.highstock.highstock_helper import jsonp_loader\n",
    "import pandas as pd\n",
    "import os\n",
    "import datetime \n",
    "import json\n",
    "from FinMind.Data import Load\n",
    "\n",
    "os.chdir(r'C:\\Users\\Yanwei\\Desktop')\n",
    "\n",
    "def date2millisecond(date):\n",
    "    \n",
    "    if isinstance(date,pd.core.series.Series):\n",
    "        date = [ datetime.datetime.combine(x, datetime.datetime.min.time()) \n",
    "                for x in date ]\n",
    "        date = [ d + datetime.timedelta(minutes = 1) for d in date ]\n",
    "        second = [ d - datetime.datetime(1970,1,1,0,0,0) for d in date ]\n",
    "        second = [ (s.days*24*60*60+s.seconds)*1000 for s in second ] \n",
    "\n",
    "    else:\n",
    "        if isinstance(date,str):\n",
    "            date = datetime.datetime.strptime(date,'%Y-%m-%d %H:%M:%S')\n",
    "        elif isinstance(date,datetime.date):\n",
    "            date = datetime.datetime.combine(date, datetime.datetime.min.time() )\n",
    "        date = date + datetime.timedelta(minutes = 1)\n",
    "        second = date - datetime.datetime(1970,1,1,0,0,0)    \n",
    "        second = (second.days*24*60*60+second.seconds)*1000\n",
    "\n",
    "    return second\n",
    "\n",
    "chart = Highstock()\n",
    "\n",
    "data = Load.FinData(dataset = 'TaiwanStockPrice',\n",
    "                    select = '2330',date = '2018-10-10')\n",
    "\n",
    "print(' change type of dataframe to highcharts ')\n",
    "data['date'] = date2millisecond(data['date'])\n",
    "list_data = []\n",
    "for i in range(len(data)):\n",
    "    tem = [ int(data.loc[i,'date']),float(data.loc[i,'close'])]\n",
    "    list_data.append(tem)"
   ]
  },
  {
   "cell_type": "code",
   "execution_count": 21,
   "metadata": {},
   "outputs": [],
   "source": [
    "import json\n",
    "with open('data.json', 'w') as f:\n",
    "    f.write('{\"code\":1,\"msg\":\"OK\",\"data\":')\n",
    "    json.dump(list_data, f)\n",
    "    f.write('}')"
   ]
  },
  {
   "cell_type": "markdown",
   "metadata": {},
   "source": [
    "# 先轉成CSV再轉成JSON版本"
   ]
  },
  {
   "cell_type": "code",
   "execution_count": 75,
   "metadata": {},
   "outputs": [
    {
     "name": "stdout",
     "output_type": "stream",
     "text": [
      "load Stock Price\n",
      "load Financial Statements\n",
      "load Share holding\n",
      "load Institutional Investors\n",
      "load Taiwan Stock Margin Purchase ShortSale\n",
      "load Month Revenue\n",
      "load Holding Shares Per\n",
      "load Balance Sheet\n"
     ]
    },
    {
     "data": {
      "text/plain": [
       "True"
      ]
     },
     "execution_count": 75,
     "metadata": {},
     "output_type": "execute_result"
    }
   ],
   "source": [
    "from FinMind.Mining import Mind\n",
    "import pandas as pd\n",
    "\n",
    "_2330 = Mind.Stock('2330','2018-10-10')    #台積電代號2330\n",
    "StockPrice=_2330.StockPrice                #抓取股價\n",
    "\n",
    "close=StockPrice.drop(labels=['Trading_Volume','Trading_money','open','max','min','spread','Trading_turnover','stock_id','update_time','create_time','country'],axis=1)   #只保留日期和收盤價格\n",
    "\n",
    "close = close.set_index(\"date\", drop=True) #調整index\n",
    "close.to_csv('2330.csv')                   #存到CSV檔案\n",
    "import os\n",
    "os.system('python date_json.py 2330.csv')\n",
    "import webbrowser\n",
    "webbrowser.open('stock.html')"
   ]
  },
  {
   "cell_type": "code",
   "execution_count": null,
   "metadata": {},
   "outputs": [],
   "source": []
  }
 ],
 "metadata": {
  "kernelspec": {
   "display_name": "Python 3",
   "language": "python",
   "name": "python3"
  },
  "language_info": {
   "codemirror_mode": {
    "name": "ipython",
    "version": 3
   },
   "file_extension": ".py",
   "mimetype": "text/x-python",
   "name": "python",
   "nbconvert_exporter": "python",
   "pygments_lexer": "ipython3",
   "version": "3.7.3"
  }
 },
 "nbformat": 4,
 "nbformat_minor": 2
}
